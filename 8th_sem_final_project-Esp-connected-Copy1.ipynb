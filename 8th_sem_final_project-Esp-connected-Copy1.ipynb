{
 "cells": [
  {
   "cell_type": "code",
   "execution_count": 1,
   "id": "e947f50f",
   "metadata": {},
   "outputs": [],
   "source": [
    "import cv2\n",
    "import numpy as np\n",
    "import os\n",
    "from pyttsx3 import speak\n",
    "from os import listdir\n",
    "from os.path import isfile, join\n",
    "import time"
   ]
  },
  {
   "cell_type": "markdown",
   "id": "7d75397d",
   "metadata": {},
   "source": [
    "### model : face_classifier"
   ]
  },
  {
   "cell_type": "code",
   "execution_count": 2,
   "id": "05b3c0ef",
   "metadata": {},
   "outputs": [],
   "source": [
    "if not(os.path.exists(\"./haarcascade_frontalface_default.xml\")):\n",
    "    os.system(\"curl https://raw.githubusercontent.com/opencv/opencv/master/data/haarcascades/haarcascade_frontalface_default.xml -O\")\n",
    "    print(\"Haarcascade file downloaded....\")"
   ]
  },
  {
   "cell_type": "code",
   "execution_count": 3,
   "id": "3f40527d",
   "metadata": {},
   "outputs": [],
   "source": [
    "face_classifier = cv2.CascadeClassifier('haarcascade_frontalface_default.xml')"
   ]
  },
  {
   "cell_type": "markdown",
   "id": "4c2abce3",
   "metadata": {},
   "source": [
    "### Cropped Face Image\n"
   ]
  },
  {
   "cell_type": "code",
   "execution_count": 4,
   "id": "fc623962",
   "metadata": {},
   "outputs": [],
   "source": [
    "def face_extractor(img):\n",
    "    \n",
    "    gray = cv2.cvtColor(img,cv2.COLOR_BGR2GRAY)\n",
    "    faces = face_classifier.detectMultiScale(gray, 1.3, 5)\n",
    "    \n",
    "    if len(faces)==0:return None\n",
    "    \n",
    "    for (x,y,w,h) in faces:\n",
    "        cropped_face = img[y:y+h, x:x+w]\n",
    "\n",
    "    return cropped_face"
   ]
  },
  {
   "cell_type": "markdown",
   "id": "a05d56ac",
   "metadata": {},
   "source": [
    "### collecting face samples"
   ]
  },
  {
   "cell_type": "code",
   "execution_count": 5,
   "id": "4c803172",
   "metadata": {},
   "outputs": [
    {
     "name": "stdout",
     "output_type": "stream",
     "text": [
      "Enter your name: suhag\n",
      "start\n",
      "Collecting Samples Complete\n"
     ]
    }
   ],
   "source": [
    "speak(\"enter your name\")\n",
    "name = input(\"Enter your name: \")\n",
    "\n",
    "if not(os.path.exists(\"./faces\")):\n",
    "    os.mkdir(\"./faces\")\n",
    "\n",
    "directory = \"./faces/{}\".format(name) #dest dir\n",
    "if not(os.path.exists(directory)):\n",
    "    os.mkdir(directory)\n",
    "\n",
    "    \n",
    "cap = cv2.VideoCapture(0)\n",
    "# url='http://192.168.76.148/capture'\n",
    "count = 0\n",
    "\n",
    "while True:\n",
    "\n",
    "    ret, frame = cap.read()\n",
    "#     image_resp=urllib.request.urlopen(url) \n",
    "#     arr = image_resp.read()\n",
    "#     nparr = np.asarray(bytearray(arr),dtype=np.uint8)\n",
    "#     frame = cv2.imdecode(nparr,cv2.IMREAD_COLOR)\n",
    "    if face_extractor(frame) is not None:\n",
    "        count += 1\n",
    "        face = cv2.resize(face_extractor(frame), (200, 200))\n",
    "        face = cv2.cvtColor(face, cv2.COLOR_BGR2GRAY)\n",
    "\n",
    "        file_name_path = directory + '/' + str(count) + '.jpg'\n",
    "        cv2.imwrite(file_name_path, face)\n",
    "\n",
    "        cv2.putText(face, str(count), (70, 50), cv2.FONT_HERSHEY_COMPLEX, 1, (255,0,0), 2)\n",
    "        if count==1:print(\"start\")\n",
    "        cv2.imshow('Face Cropper', face)\n",
    "        \n",
    "    else:\n",
    "        print(\"Face not found .Look into the camera\")\n",
    "        pass\n",
    "\n",
    "    if cv2.waitKey(1) == 13 or count == 200: \n",
    "        break\n",
    "        \n",
    "cap.release()\n",
    "cv2.destroyAllWindows()      \n",
    "print(\"Collecting Samples Complete\")"
   ]
  },
  {
   "cell_type": "markdown",
   "id": "d4979f2d",
   "metadata": {},
   "source": [
    "# Training the model"
   ]
  },
  {
   "cell_type": "code",
   "execution_count": 6,
   "id": "44bd3e85",
   "metadata": {},
   "outputs": [
    {
     "data": {
      "text/plain": [
       "['suhag']"
      ]
     },
     "execution_count": 6,
     "metadata": {},
     "output_type": "execute_result"
    }
   ],
   "source": [
    "if not(os.path.exists(\"./faces/.ipynb_checkpoints\")):os.mkdir(\"./faces/.ipynb_checkpoints\")\n",
    "os.listdir(\"faces/\")[1:]"
   ]
  },
  {
   "cell_type": "code",
   "execution_count": 7,
   "id": "3d41677e",
   "metadata": {},
   "outputs": [
    {
     "name": "stdout",
     "output_type": "stream",
     "text": [
      "{0: 'suhag'}\n",
      "Model trained sucessefully and saved..................\n"
     ]
    }
   ],
   "source": [
    "Training_Data, Labels = [], []\n",
    "Dict = {}\n",
    "\n",
    "\n",
    "for i,name in enumerate(os.listdir('faces/')[1:]):\n",
    "    data_path = './faces/{}/'.format(name)\n",
    "    onlyfiles = [f for f in listdir(data_path) if isfile(join(data_path, f))]\n",
    "    Dict[i] = name\n",
    "    \n",
    "\n",
    "    for j, files in enumerate(onlyfiles):\n",
    "        image_path = data_path + onlyfiles[j]\n",
    "        images = cv2.imread(image_path, cv2.IMREAD_GRAYSCALE)\n",
    "        Training_Data.append(np.asarray(images, dtype=np.uint8))\n",
    "        Labels.append(i)\n",
    "#         Labels.append(name)\n",
    "\n",
    "print(Dict)    \n",
    "# print(Labels) \n",
    "\n",
    "Labels = np.asarray(Labels, dtype=np.int32)\n",
    "#print(Labels)\n",
    "\n",
    "\n",
    "Suhag_model  = cv2.face_LBPHFaceRecognizer.create()\n",
    "Suhag_model.train(np.asarray(Training_Data), np.asarray(Labels))\n",
    "print(\"Model trained sucessefully and saved..................\")\n",
    "if not(os.path.exists(\"./model\")):os.mkdir(\"./model\")\n",
    "Suhag_model.write(\"./model/Suhag.yml\")"
   ]
  },
  {
   "cell_type": "markdown",
   "id": "2c7a3884",
   "metadata": {},
   "source": [
    "# Recgonise and do the tasks"
   ]
  },
  {
   "cell_type": "code",
   "execution_count": 8,
   "id": "f1ad57ab",
   "metadata": {},
   "outputs": [
    {
     "data": {
      "text/plain": [
       "{0: 'suhag'}"
      ]
     },
     "execution_count": 8,
     "metadata": {},
     "output_type": "execute_result"
    }
   ],
   "source": [
    "Dict={}\n",
    "for i,name in enumerate(os.listdir('faces/')[1:]):\n",
    "        Dict[i] = name\n",
    "Dict"
   ]
  },
  {
   "cell_type": "code",
   "execution_count": 9,
   "id": "4fcc0ba0",
   "metadata": {},
   "outputs": [
    {
     "name": "stderr",
     "output_type": "stream",
     "text": [
      "<>:12: SyntaxWarning: \"is\" with a literal. Did you mean \"==\"?\n",
      "<>:12: SyntaxWarning: \"is\" with a literal. Did you mean \"==\"?\n",
      "C:\\Users\\suhag\\AppData\\Local\\Temp\\ipykernel_6188\\3728086114.py:12: SyntaxWarning: \"is\" with a literal. Did you mean \"==\"?\n",
      "  if faces is ():\n"
     ]
    }
   ],
   "source": [
    "# time_hour = time.localtime().tm_hour\n",
    "# time_min = time.localtime().tm_min\n",
    "\n",
    "\n",
    "\n",
    "face_classifier = cv2.CascadeClassifier('haarcascade_frontalface_default.xml')\n",
    "\n",
    "def face_detector(img, size=0.5):\n",
    "    \n",
    "    gray = cv2.cvtColor(img,cv2.COLOR_BGR2GRAY)\n",
    "    faces = face_classifier.detectMultiScale(gray, 1.3, 5)\n",
    "    if faces is ():\n",
    "        return img, []\n",
    "    \n",
    "    \n",
    "    for (x,y,w,h) in faces:\n",
    "        cv2.rectangle(img,(x,y),(x+w,y+h),(0,255,255),2)\n",
    "        roi = img[y:y+h, x:x+w]\n",
    "        roi = cv2.resize(roi, (200, 200))\n",
    "    return img, roi"
   ]
  },
  {
   "cell_type": "code",
   "execution_count": null,
   "id": "b3944e04",
   "metadata": {},
   "outputs": [],
   "source": []
  },
  {
   "cell_type": "markdown",
   "id": "a8b6180b",
   "metadata": {},
   "source": [
    "## Emotion Detection"
   ]
  },
  {
   "cell_type": "code",
   "execution_count": 10,
   "id": "beda5a1f",
   "metadata": {},
   "outputs": [],
   "source": [
    "from deepface import DeepFace"
   ]
  },
  {
   "cell_type": "code",
   "execution_count": 11,
   "id": "0dda1f25",
   "metadata": {},
   "outputs": [],
   "source": [
    "def detect_emotion(image):\n",
    "    res = DeepFace.analyze(image,actions=('emotion'),silent=True,align=False)\n",
    "    emotion = res[0]['dominant_emotion']\n",
    "    region  = res[0]['region']\n",
    "    x = region['x']\n",
    "    y = region['y']\n",
    "    w = region['w']\n",
    "    h = region['h']\n",
    "#     cv2.rectangle(image,(x,y),(x+w,y+h),(0,255,255),2)\n",
    "    cv2.putText(image,emotion,(x+w,y+h),cv2.FONT_HERSHEY_COMPLEX,1,(255,255,0),2)"
   ]
  },
  {
   "cell_type": "code",
   "execution_count": 12,
   "id": "1f4065c9",
   "metadata": {},
   "outputs": [],
   "source": [
    "def face_recognise(frame):\n",
    "    image, face = face_detector(frame)\n",
    "    try:\n",
    "#         detect_emotion(image)\n",
    "        res = DeepFace.analyze(image,actions=('emotion'),silent=True,align=False)\n",
    "        emotion = res[0]['dominant_emotion']\n",
    "        region  = res[0]['region']\n",
    "        x = region['x']\n",
    "        y = region['y']\n",
    "        w = region['w']\n",
    "        h = region['h']\n",
    "    #     cv2.rectangle(image,(x,y),(x+w,y+h),(0,255,255),2)\n",
    "        cv2.putText(image,emotion,(x+w,y+h),cv2.FONT_HERSHEY_COMPLEX,1,(255,255,0),2)\n",
    "        face = cv2.cvtColor(face, cv2.COLOR_BGR2GRAY)\n",
    "        results = Priyanka_model.predict(face)\n",
    "        if results[1] < 500:\n",
    "            confidence = int( 100 * (1 - (results[1])/400) )\n",
    "            display_string = str(confidence) + '% Confident you are Priyanka!!'  \n",
    "        #cv2.putText(image, display_string, (100, 120), cv2.FONT_HERSHEY_COMPLEX, 1, (255,120,150), 2)\n",
    "        person = results[0]\n",
    "        \n",
    "        if confidence > 70:\n",
    "            cv2.putText(image, \"Hey {}!!!!\".format(Dict[person]), (250, 450), cv2.FONT_HERSHEY_COMPLEX, 1, (0,255,0), 2)\n",
    "#             pyttsx3.speak(\"This is {}\".format(Dict[person]))\n",
    "            return image,Dict[person],emotion\n",
    "        else:\n",
    "            cv2.putText(image, \"I can not recognise you.\", (200, 450), cv2.FONT_HERSHEY_COMPLEX, 1, (0,0,255), 2)\n",
    "            return image,None,None\n",
    "    except:\n",
    "        cv2.putText(image, \"No Face Found\", (220, 120) , cv2.FONT_HERSHEY_COMPLEX, 1, (0,0,255), 2)\n",
    "        cv2.putText(image, \"looking for face\", (250, 450), cv2.FONT_HERSHEY_COMPLEX, 1, (0,0,255), 2)\n",
    "        return image,None,None"
   ]
  },
  {
   "cell_type": "code",
   "execution_count": null,
   "id": "cd9db74f",
   "metadata": {},
   "outputs": [],
   "source": []
  },
  {
   "cell_type": "markdown",
   "id": "8e980717",
   "metadata": {},
   "source": [
    "# YOLO code"
   ]
  },
  {
   "cell_type": "code",
   "execution_count": 13,
   "id": "9eda49f8",
   "metadata": {},
   "outputs": [],
   "source": [
    "import torch\n",
    "import cv2"
   ]
  },
  {
   "cell_type": "code",
   "execution_count": 14,
   "id": "8f083bcc",
   "metadata": {},
   "outputs": [
    {
     "name": "stderr",
     "output_type": "stream",
     "text": [
      "Using cache found in C:\\Users\\suhag/.cache\\torch\\hub\\ultralytics_yolov5_master\n",
      "YOLOv5  2023-3-28 Python-3.9.13 torch-2.0.0+cpu CPU\n",
      "\n",
      "Fusing layers... \n",
      "YOLOv5s summary: 213 layers, 7225885 parameters, 0 gradients\n",
      "Adding AutoShape... \n"
     ]
    }
   ],
   "source": [
    "model = torch.hub.load('ultralytics/yolov5', 'yolov5s', pretrained=True)"
   ]
  },
  {
   "cell_type": "markdown",
   "id": "11a82bfa",
   "metadata": {},
   "source": [
    "## Object detection model"
   ]
  },
  {
   "cell_type": "code",
   "execution_count": 15,
   "id": "a8ceadb2",
   "metadata": {},
   "outputs": [],
   "source": [
    "def detect_objects(image):\n",
    "#     obj_names = {}\n",
    "    obj_names = []\n",
    "    results = model(image)\n",
    "    objects = results.crop(save=False)\n",
    "    for obj in objects:\n",
    "#             obj_names[obj[\"label\"].split()[0]] = obj[\"label\"].split()[1]\n",
    "        if float(obj[\"label\"].split()[-1])>0.65:obj_names.append(\" \".join(obj[\"label\"].split()[:-1]))\n",
    "    obj_box_pics = results.render()[0]\n",
    "    obj_names_count={}\n",
    "    for i in set(obj_names):\n",
    "        obj_names_count[i] = obj_names.count(i)\n",
    "    return (obj_names_count,obj_box_pics)"
   ]
  },
  {
   "cell_type": "code",
   "execution_count": 16,
   "id": "1db64365",
   "metadata": {},
   "outputs": [],
   "source": [
    "Priyanka_model = cv2.face.LBPHFaceRecognizer_create()\n",
    "Priyanka_model.read('./model/Priyanka.yml')"
   ]
  },
  {
   "cell_type": "code",
   "execution_count": 18,
   "id": "550eb6c2",
   "metadata": {},
   "outputs": [],
   "source": [
    "cam = cv2.VideoCapture(0)\n",
    "# url='http://192.168.76.148/capture'\n",
    "prev_obj=[None]\n",
    "prev_person_name = None\n",
    "prev_emotion = None\n",
    "while True:\n",
    "    clicked , image = cam.read()\n",
    "#     clicked = True\n",
    "#     image_resp=urllib.request.urlopen(url) \n",
    "#     arr = image_resp.read()\n",
    "#     nparr = np.asarray(bytearray(arr),dtype=np.uint8)\n",
    "#     image = cv2.imdecode(nparr,cv2.IMREAD_COLOR)\n",
    "    \n",
    "    if clicked:\n",
    "        obj_names,obj_box_pics = detect_objects(image)\n",
    "#         print(obj_names)\n",
    "        if not(prev_obj==obj_names): \n",
    "            prev_obj = obj_names\n",
    "            for obj,count in obj_names.items():\n",
    "                speak(\"{} {}\".format(count,obj))\n",
    "        if \"person\" in obj_names:\n",
    "            obj_box_pics,person_name,emotion = face_recognise(obj_box_pics)\n",
    "            if not(prev_person_name==person_name) or not(prev_emotion==emotion):\n",
    "                prev_person_name = person_name\n",
    "                prev_emotion = emotion\n",
    "                if person_name:\n",
    "                    speak(\"This is {} and emotion is {}\".format(person_name,emotion))\n",
    "        cv2.imshow(\"object_detected\",obj_box_pics)\n",
    "        \n",
    "\n",
    "    if cv2.waitKey(1)==13:\n",
    "        break\n",
    "cv2.destroyAllWindows()\n",
    "\n",
    "cam.release()"
   ]
  },
  {
   "cell_type": "code",
   "execution_count": null,
   "id": "2f4134a8",
   "metadata": {},
   "outputs": [],
   "source": [
    "\n",
    "\n",
    "\n",
    "\n",
    "\n",
    "\n",
    "\n",
    "\n",
    "\n"
   ]
  },
  {
   "cell_type": "code",
   "execution_count": null,
   "id": "40eba5c5",
   "metadata": {},
   "outputs": [],
   "source": [
    "\n",
    "\n"
   ]
  },
  {
   "cell_type": "code",
   "execution_count": null,
   "id": "cd6ed648",
   "metadata": {},
   "outputs": [],
   "source": []
  }
 ],
 "metadata": {
  "kernelspec": {
   "display_name": "Python 3 (ipykernel)",
   "language": "python",
   "name": "python3"
  },
  "language_info": {
   "codemirror_mode": {
    "name": "ipython",
    "version": 3
   },
   "file_extension": ".py",
   "mimetype": "text/x-python",
   "name": "python",
   "nbconvert_exporter": "python",
   "pygments_lexer": "ipython3",
   "version": "3.9.13"
  }
 },
 "nbformat": 4,
 "nbformat_minor": 5
}
